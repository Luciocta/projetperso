{
 "cells": [
  {
   "cell_type": "markdown",
   "metadata": {},
   "source": [
    "**Newton-Raphson method**"
   ]
  },
  {
   "cell_type": "code",
   "execution_count": 1,
   "metadata": {},
   "outputs": [],
   "source": [
    "def newton_method(f, x0, tolerance=1e-7, max_iterations=1000):\n",
    "    \"\"\"\n",
    "    Estimate the root of a function using the Newton-Raphson method.\n",
    "\n",
    "    Parameters:\n",
    "    f (function): The function for which we are trying to find a root.\n",
    "    df (function): The derivative of the function f.\n",
    "    x0 (float): Initial guess for the root.\n",
    "    tolerance (float): The tolerance for the root estimation.\n",
    "    max_iterations (int): The maximum number of iterations to perform.\n",
    "\n",
    "    Returns:\n",
    "    float: The estimated root of the function.\n",
    "    \"\"\"\n",
    "    dx = 1e-5\n",
    "    df = lambda x: (f(x + dx) - f(x - dx)) / (2 * dx)\n",
    "\n",
    "    x = x0\n",
    "    for i in range(max_iterations):\n",
    "        fx = f(x)\n",
    "        dfx = df(x)\n",
    "        if abs(fx) < tolerance:\n",
    "            return x\n",
    "        if dfx == 0:\n",
    "            raise ValueError(\"Derivative is zero. No solution found.\")\n",
    "        x = x - fx / dfx\n",
    "    raise ValueError(\"Maximum number of iterations reached. No solution found.\")"
   ]
  },
  {
   "cell_type": "markdown",
   "metadata": {},
   "source": [
    "**Call price with Black-Scholes**"
   ]
  },
  {
   "cell_type": "code",
   "execution_count": 8,
   "metadata": {},
   "outputs": [],
   "source": [
    "import math\n",
    "import numpy as np\n",
    "from scipy.stats import norm\n",
    "\n",
    "def call_bs(S, K, r, T, sigma):\n",
    "    \"\"\"\n",
    "    Calculate the price of a European call option using the Black-Scholes formula.\n",
    "\n",
    "    Parameters:\n",
    "    S (float): The current price of the underlying asset.\n",
    "    K (float): The strike price of the option.\n",
    "    r (float): The risk-free interest rate.\n",
    "    T (float): The time to maturity of the option.\n",
    "    sigma (float): The volatility of the underlying asset.\n",
    "\n",
    "    Returns:\n",
    "    float: The price of the call option.\n",
    "    \"\"\"\n",
    "    d1 = (math.log(S / K) + (r + 0.5 * sigma ** 2) * T) / (sigma * math.sqrt(T))\n",
    "    d2 = d1 - sigma * math.sqrt(T)\n",
    "    return S * norm.cdf(d1) - K * math.exp(-r * T) * norm.cdf(d2)"
   ]
  },
  {
   "cell_type": "code",
   "execution_count": null,
   "metadata": {},
   "outputs": [],
   "source": []
  }
 ],
 "metadata": {
  "kernelspec": {
   "display_name": "base",
   "language": "python",
   "name": "python3"
  },
  "language_info": {
   "codemirror_mode": {
    "name": "ipython",
    "version": 3
   },
   "file_extension": ".py",
   "mimetype": "text/x-python",
   "name": "python",
   "nbconvert_exporter": "python",
   "pygments_lexer": "ipython3",
   "version": "3.11.7"
  }
 },
 "nbformat": 4,
 "nbformat_minor": 2
}
