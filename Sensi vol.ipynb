{
 "cells": [
  {
   "cell_type": "code",
   "execution_count": 3,
   "metadata": {},
   "outputs": [
    {
     "data": {
      "application/vnd.jupyter.widget-view+json": {
       "model_id": "64789763ab024d0ab32b7059492f1dd1",
       "version_major": 2,
       "version_minor": 0
      },
      "text/plain": [
       "interactive(children=(FloatSlider(value=1.0, description='Pente', max=5.0, min=-5.0), Output()), _dom_classes=…"
      ]
     },
     "metadata": {},
     "output_type": "display_data"
    },
    {
     "data": {
      "text/plain": [
       "<function __main__.plot_line(slope)>"
      ]
     },
     "execution_count": 3,
     "metadata": {},
     "output_type": "execute_result"
    }
   ],
   "source": [
    "import numpy as np\n",
    "import matplotlib.pyplot as plt\n",
    "import ipywidgets as widgets\n",
    "from ipywidgets import interact\n",
    "\n",
    "\n",
    "\n",
    "def plot_line(slope):\n",
    "    x = np.linspace(-10, 10, 400)\n",
    "    intercept = 0\n",
    "    y = slope * x  + intercept\n",
    "    \n",
    "    plt.figure(figsize=(6, 4))\n",
    "    plt.plot(x, y, label=f'y = {slope:.2f}x + {intercept:.2f}')\n",
    "    plt.axhline(0, color='black', linewidth=0.5)\n",
    "    plt.axvline(0, color='black', linewidth=0.5)\n",
    "    plt.grid(True, linestyle='--', linewidth=0.5)\n",
    "    plt.xlim(-10, 10)\n",
    "    plt.ylim(-10, 10)\n",
    "    plt.legend()\n",
    "    plt.show()\n",
    "\n",
    "#interact(plot_line, \n",
    "#         slope=widgets.FloatSlider(min=-5, max=5, step=0.1, value=1, description='Pente'),\n",
    " #        intercept=widgets.FloatSlider(min=-10, max=10, step=0.1, value=0, description='Ordonnée à l''origine'))\n",
    "\n",
    "interact(plot_line, \n",
    "         slope=widgets.FloatSlider(min=-5, max=5, step=0.1, value=1, description='Pente'))"
   ]
  },
  {
   "cell_type": "code",
   "execution_count": 57,
   "metadata": {},
   "outputs": [
    {
     "data": {
      "application/vnd.jupyter.widget-view+json": {
       "model_id": "68d5065f225e47b5b13e51fc833d3550",
       "version_major": 2,
       "version_minor": 0
      },
      "text/plain": [
       "interactive(children=(FloatSlider(value=0.5, description='Volatility', max=0.5, min=1e-05, step=0.001), Output…"
      ]
     },
     "metadata": {},
     "output_type": "display_data"
    },
    {
     "data": {
      "text/plain": [
       "<function __main__.plot_call_price(vol)>"
      ]
     },
     "execution_count": 57,
     "metadata": {},
     "output_type": "execute_result"
    }
   ],
   "source": [
    "import py_vollib.black_scholes as bs\n",
    "from scipy.stats import norm\n",
    "import math\n",
    "\n",
    "def delta(S, K, t, r, sigma, flag='c'):\n",
    "    d1 = 1/(sigma*math.sqrt(t))*(math.log(S/K)+(r+sigma**2/2)*t)\n",
    "    return norm.cdf(d1)\n",
    "\n",
    "def black_scholes_price(S, K, t, r, sigma, flag='c'):\n",
    "\n",
    "    d1 = 1/(sigma*math.sqrt(t))*(math.log(S/K)+(r+sigma**2/2)*t)\n",
    "    d2 = d1 - sigma*math.sqrt(t)\n",
    "\n",
    "    return S*norm.cdf(d1) - K*math.exp(-r*t)*norm.cdf(d2)\n",
    "\n",
    "flag = 'c'\n",
    "S = 100\n",
    "K = 90\n",
    "t = 0.5\n",
    "r = 0.01\n",
    "sigma = 0.02\n",
    "\n",
    "# print(black_scholes_price(S, K, t, r, sigma))\n",
    "# call = bs.black_scholes(flag, S, K, t, r, sigma)\n",
    "# print(call)\n",
    "call = lambda vol : black_scholes_price(S, K, t, r, vol, flag='c')\n",
    "#print(call(0.02))\n",
    "\n",
    "\n",
    "\n",
    "def plot_call_price(vol):\n",
    "    #Define the parameters\n",
    "\n",
    "    S = 100\n",
    "    t = 1\n",
    "    r = 0.05\n",
    "    sigma = vol\n",
    "\n",
    "    # Calculate the call price\n",
    "    strikes = np.linspace(50,200,50)\n",
    "    call_price = [black_scholes_price(S, K, t, r, sigma) for K in strikes]\n",
    "    delta_values = [delta(S, K, t, r, sigma)*100 for K in strikes]\n",
    "\n",
    "    plt.figure(figsize=(6, 4))\n",
    "    plt.plot(strikes, call_price, label='Black-Scholes call price')\n",
    "    plt.plot(strikes, delta_values, label='Delta*100')\n",
    "    plt.axhline(0, color='black', linewidth=0.5)\n",
    "    plt.axvline(0, color='black', linewidth=0.5)\n",
    "    plt.grid(True, linestyle='--', linewidth=0.5)\n",
    "    plt.xlim(50, 200)\n",
    "    #plt.ylim(-10, 10)\n",
    "    plt.legend()\n",
    "    plt.show()\n",
    "\n",
    "interact(plot_call_price, vol=widgets.FloatSlider(min=0.00001, max=0.5, step=0.001, value=1, description='Volatility'))\n",
    "\n",
    "    \n"
   ]
  },
  {
   "cell_type": "code",
   "execution_count": 52,
   "metadata": {},
   "outputs": [
    {
     "name": "stdout",
     "output_type": "stream",
     "text": [
      "10.448876872658595\n",
      "10.448876872658595\n"
     ]
    },
    {
     "data": {
      "image/png": "[encoded data removed]",
      "text/plain": [
       "<Figure size 640x480 with 1 Axes>"
      ]
     },
     "metadata": {},
     "output_type": "display_data"
    }
   ],
   "source": [
    "call = bs.black_scholes('c',100,90,.5,.01,.02)\n",
    "print(call)\n",
    "\n",
    "flag = 'c'\n",
    "S = 100\n",
    "K = 90\n",
    "t = 0.5\n",
    "r = 0.01\n",
    "sigma = 0.02\n",
    "call2 = bs.black_scholes(flag, S, K, t, r, sigma)\n",
    "print(call2)\n",
    "\n",
    "\n",
    "strikes = np.linspace(1,200,50)\n",
    "call_price = [black_scholes_price(S, K, t, r, sigma) for K in strikes]\n",
    "call_price_vollib = [bs.black_scholes(flag, S, K, t, r, sigma) for K in strikes]\n",
    "\n",
    "plt.plot(strikes, call_price, label='fonction main',color='blue', marker='.')\n",
    "plt.plot(strikes, call_price_vollib, label='fonction vollib',color='red')\n",
    "plt.show()\n"
   ]
  },
  {
   "cell_type": "code",
   "execution_count": null,
   "metadata": {},
   "outputs": [],
   "source": []
  }
 ],
 "metadata": {
  "kernelspec": {
   "display_name": "base",
   "language": "python",
   "name": "python3"
  },
  "language_info": {
   "codemirror_mode": {
    "name": "ipython",
    "version": 3
   },
   "file_extension": ".py",
   "mimetype": "text/x-python",
   "name": "python",
   "nbconvert_exporter": "python",
   "pygments_lexer": "ipython3",
   "version": "3.11.7"
  }
 },
 "nbformat": 4,
 "nbformat_minor": 2
}
