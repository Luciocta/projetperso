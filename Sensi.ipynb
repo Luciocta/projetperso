{
 "cells": [
  {
   "cell_type": "code",
   "execution_count": 1,
   "metadata": {},
   "outputs": [],
   "source": [
    "%load_ext autoreload\n",
    "%autoreload 2\n",
    "\n",
    "import numpy as np\n",
    "import matplotlib.pyplot as plt\n",
    "import ipywidgets as widgets\n",
    "from ipywidgets import interact\n",
    "import functionlib as fl"
   ]
  },
  {
   "cell_type": "code",
   "execution_count": 2,
   "metadata": {},
   "outputs": [
    {
     "data": {
      "text/plain": [
       "\"\\ninteract(plot_line, \\n        slope=widgets.FloatSlider(min=-5, max=5, step=0.1, value=1, description='Pente'),\\n        intercept=widgets.FloatSlider(min=-10, max=10, step=0.1, value=0, description='Ordonnée à l''origine'))\\n\\ninteract(plot_line, \\n         slope=widgets.FloatSlider(min=-5, max=5, step=0.1, value=1, description='Pente'))\\n\""
      ]
     },
     "execution_count": 2,
     "metadata": {},
     "output_type": "execute_result"
    }
   ],
   "source": [
    "\"\"\" \n",
    "def plot_line(slope):\n",
    "    x = np.linspace(-10, 10, 400)\n",
    "    intercept = 0\n",
    "    y = slope * x  + intercept\n",
    "    \n",
    "    plt.figure(figsize=(6, 4))\n",
    "    plt.plot(x, y, label=f'y = {slope:.2f}x + {intercept:.2f}')\n",
    "    plt.axhline(0, color='black', linewidth=0.5)\n",
    "    plt.axvline(0, color='black', linewidth=0.5)\n",
    "    plt.grid(True, linestyle='--', linewidth=0.5)\n",
    "    plt.xlim(-10, 10)\n",
    "    plt.ylim(-10, 10)\n",
    "    plt.legend()\n",
    "    plt.show()\n",
    " \"\"\"\n",
    "\"\"\"\n",
    "interact(plot_line, \n",
    "        slope=widgets.FloatSlider(min=-5, max=5, step=0.1, value=1, description='Pente'),\n",
    "        intercept=widgets.FloatSlider(min=-10, max=10, step=0.1, value=0, description='Ordonnée à l''origine'))\n",
    "\n",
    "interact(plot_line, \n",
    "         slope=widgets.FloatSlider(min=-5, max=5, step=0.1, value=1, description='Pente'))\n",
    "\"\"\""
   ]
  },
  {
   "cell_type": "code",
   "execution_count": null,
   "metadata": {},
   "outputs": [
    {
     "data": {
      "application/vnd.jupyter.widget-view+json": {
       "model_id": "0370cac580ab4d1384ce39580683fdab",
       "version_major": 2,
       "version_minor": 0
      },
      "text/plain": [
       "interactive(children=(FloatSlider(value=1.0, description='Maturité', max=4.0, min=0.5, step=0.5), Output()), _…"
      ]
     },
     "metadata": {},
     "output_type": "display_data"
    },
    {
     "data": {
      "text/plain": [
       "<function __main__.plot_line(maturity)>"
      ]
     },
     "execution_count": 3,
     "metadata": {},
     "output_type": "execute_result"
    }
   ],
   "source": [
    "S = 100\n",
    "K = 100\n",
    "T = 1\n",
    "r = 0.05\n",
    "sigma = 0.2\n",
    "q = 0\n",
    "\n",
    "def plot_line(maturity):\n",
    "\n",
    "    spot = np.linspace(50,150,1000)\n",
    "    price = fl.black_scholes(spot, K, maturity, r, sigma)\n",
    "\n",
    "    plt.figure(figsize=(6, 4))\n",
    "    plt.title('Premium')\n",
    "    plt.plot(spot, price)\n",
    "    plt.axhline(0, color='black', linewidth=0.5)\n",
    "    plt.axvline(0, color='black', linewidth=0.5)\n",
    "    plt.grid(True, linestyle='--', linewidth=0.5)\n",
    "    plt.xlim(50, 150)\n",
    "    plt.show()\n",
    "\n",
    "interact(plot_line, maturity=widgets.FloatSlider(min=0.5, max=4, step=0.5, value=1, description='Maturité'))"
   ]
  },
  {
   "cell_type": "code",
   "execution_count": null,
   "metadata": {},
   "outputs": [
    {
     "data": {
      "application/vnd.jupyter.widget-view+json": {
       "model_id": "6f79d63a993f45a18df74dbe3a55de30",
       "version_major": 2,
       "version_minor": 0
      },
      "text/plain": [
       "interactive(children=(FloatSlider(value=1.0, description='Maturité', max=4.0, min=0.5, step=0.5), Output()), _…"
      ]
     },
     "metadata": {},
     "output_type": "display_data"
    },
    {
     "data": {
      "text/plain": [
       "<function __main__.plot_line(maturity)>"
      ]
     },
     "execution_count": 4,
     "metadata": {},
     "output_type": "execute_result"
    }
   ],
   "source": [
    "S = 100\n",
    "K = 100\n",
    "T = 1\n",
    "r = 0.05\n",
    "sigma = 0.2\n",
    "q = 0\n",
    "\n",
    "def plot_line(maturity):\n",
    "\n",
    "    spot = np.linspace(50,150,1000)\n",
    "    delta = fl.delta(spot, K, maturity, r, sigma)\n",
    "\n",
    "    plt.figure(figsize=(6, 4))\n",
    "    plt.title('Delta')\n",
    "    plt.plot(spot, delta)\n",
    "    plt.axhline(0, color='black', linewidth=0.5)\n",
    "    plt.axvline(0, color='black', linewidth=0.5)\n",
    "    plt.grid(True, linestyle='--', linewidth=0.5)\n",
    "    plt.xlim(50, 150)\n",
    "    plt.show()\n",
    "\n",
    "interact(plot_line, maturity=widgets.FloatSlider(min=0.5, max=4, step=0.5, value=1, description='Maturité'))"
   ]
  },
  {
   "cell_type": "code",
   "execution_count": null,
   "metadata": {},
   "outputs": [],
   "source": []
  }
 ],
 "metadata": {
  "kernelspec": {
   "display_name": "base",
   "language": "python",
   "name": "python3"
  },
  "language_info": {
   "codemirror_mode": {
    "name": "ipython",
    "version": 3
   },
   "file_extension": ".py",
   "mimetype": "text/x-python",
   "name": "python",
   "nbconvert_exporter": "python",
   "pygments_lexer": "ipython3",
   "version": "3.11.7"
  }
 },
 "nbformat": 4,
 "nbformat_minor": 2
}
