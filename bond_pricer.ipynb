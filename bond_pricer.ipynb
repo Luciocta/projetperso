{
 "cells": [
  {
   "cell_type": "code",
   "execution_count": 59,
   "metadata": {},
   "outputs": [],
   "source": [
    "import numpy as np\n",
    "from datetime import datetime\n",
    "import pandas as pd"
   ]
  },
  {
   "cell_type": "code",
   "execution_count": 15,
   "metadata": {},
   "outputs": [],
   "source": [
    "def bond_price(maturity, coupon_rate, face_value, ytm):\n",
    "    \n",
    "    coupon = coupon_rate*face_value\n",
    "\n",
    "    discount_factors = [1/(1+ytm)**i for i in range(1, maturity+1)]\n",
    "    cashflows = [coupon]*maturity\n",
    "    cashflows [-1] += face_value\n",
    "\n",
    "    return np.array(discount_factors)@np.array(cashflows)"
   ]
  },
  {
   "cell_type": "code",
   "execution_count": null,
   "metadata": {},
   "outputs": [],
   "source": [
    "#Parameters:\n",
    "\n",
    "maturity = 10\n",
    "coupon_rate = 0.07\n",
    "face_value = 1000\n",
    "ytm = 0.05\n",
    "\n",
    "bond_price(maturity, coupon_rate, face_value, ytm)"
   ]
  },
  {
   "cell_type": "code",
   "execution_count": 83,
   "metadata": {},
   "outputs": [],
   "source": [
    "def bond_price_settlement(maturity_date, coupon_rate, face_value, ytm, settlement_date):\n",
    "    coupon = coupon_rate*face_value\n",
    "\n",
    "    settlement_date = datetime.strptime(settlement_date, \"%d/%m/%Y\")\n",
    "    maturity_date = datetime.strptime(maturity_date, \"%d/%m/%Y\")\n",
    "    last_coupon_date = maturity_date.replace(year=settlement_date.year-1)\n",
    "    next_coupon_date = maturity_date.replace(year=settlement_date.year)\n",
    "\n",
    "    maturity = maturity_date.year-next_coupon_date.year+1\n",
    "\n",
    "    t1 = (next_coupon_date-settlement_date).days/365\n",
    "\n",
    "    time = np.array([t1 + i for i in range(maturity)])\n",
    "    cashflows = np.array([coupon]*maturity)\n",
    "    cashflows[-1] += face_value\n",
    "    discount_factors = 1/(1+ytm)**time\n",
    "\n",
    "    accrued_interest = (settlement_date - last_coupon_date).days/365 * coupon\n",
    "\n",
    "    dirty_price = discount_factors@cashflows\n",
    "    clean_price = dirty_price - accrued_interest\n",
    "\n",
    "    return dirty_price, clean_price\n"
   ]
  },
  {
   "cell_type": "code",
   "execution_count": 86,
   "metadata": {},
   "outputs": [
    {
     "name": "stdout",
     "output_type": "stream",
     "text": [
      "Dirty price = 97.09134551582721 \n",
      "Clean price = 96.68860578979982\n"
     ]
    }
   ],
   "source": [
    "settlement_date = \"13/01/2025\"\n",
    "maturity_date = \"25/11/2034\"\n",
    "coupon_rate = 0.03\n",
    "face_value = 100\n",
    "ytm = 0.0340\n",
    "\n",
    "dirty_price, clean_price = bond_price_settlement(maturity_date, coupon_rate, face_value, ytm, settlement_date)\n",
    "\n",
    "print(f\"Dirty price = {dirty_price} \\nClean price = {clean_price}\")"
   ]
  }
 ],
 "metadata": {
  "kernelspec": {
   "display_name": "base",
   "language": "python",
   "name": "python3"
  },
  "language_info": {
   "codemirror_mode": {
    "name": "ipython",
    "version": 3
   },
   "file_extension": ".py",
   "mimetype": "text/x-python",
   "name": "python",
   "nbconvert_exporter": "python",
   "pygments_lexer": "ipython3",
   "version": "3.12.7"
  }
 },
 "nbformat": 4,
 "nbformat_minor": 2
}
