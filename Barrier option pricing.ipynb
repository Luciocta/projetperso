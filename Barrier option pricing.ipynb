{
 "cells": [
  {
   "cell_type": "code",
   "execution_count": 5,
   "metadata": {},
   "outputs": [],
   "source": [
    "import functionlib as fl\n",
    "import numpy as np\n",
    "import pandas as pd\n",
    "import matplotlib.pyplot as plt"
   ]
  },
  {
   "cell_type": "code",
   "execution_count": 7,
   "metadata": {},
   "outputs": [],
   "source": [
    "def payoff_barrier_option(path, K, T, B, option_type, observ_freq=1, graph=False):\n",
    "    \"\"\"\n",
    "    Computes the payoff of a barrier option given a price path. \n",
    "    Option type can be: upincall, upoutcall, upinput, upoutput, downincall, downoutcall, downinput, downoutput\n",
    "    Observation are made every observ_freq days.\n",
    "    \"\"\"\n",
    "    \n",
    "    #if path.shape[1] > 1:\n",
    "        #raise ValueError(\"Path contains more than 1 simulation\")\n",
    "\n",
    "\n",
    "\n",
    "    if graph:\n",
    "        plt.figure(figsize=(10,6))\n",
    "        plt.plot(path)\n",
    "        plt.axhline(y = B, color='r', linestyle='--')\n",
    "        plt.text(0, B+0.2, 'BARRIER', color='r')\n",
    "        plt.xlabel('Time (days)')\n",
    "        plt.ylabel('Index level')\n",
    "        plt.grid()\n",
    "        plt.show()\n",
    "\n",
    "\n",
    "\n",
    "    time_steps = T*252\n",
    "    observation_dates = np.arange(observ_freq, time_steps+1, observ_freq)\n",
    "\n",
    "    path_at_observation = [path.iloc[observation-1].values for observation in observation_dates]\n",
    "    \n",
    "    max_price = max(path_at_observation)\n",
    "    min_price = min(path_at_observation)\n",
    "\n",
    "    S_T = path.iloc[-1].values[0]\n",
    "\n",
    "    payoff = 0\n",
    "\n",
    "    if option_type == 'upincall':\n",
    "        if max_price >= B: #Barrier reached, standard call payoff\n",
    "            return max(S_T-K, 0)\n",
    "        else:\n",
    "            return 0\n",
    "        \n",
    "    elif option_type == 'upinput': #Barrier reached, standard put payoff\n",
    "        if max_price >= B:\n",
    "            return max(K-S_T,0)\n",
    "        else:\n",
    "            return 0\n",
    "    \n",
    "    elif option_type == 'downincall':\n",
    "        if min_price <= B: #Barrier reached, standard call payoff\n",
    "            return max(S_T-K,0)\n",
    "        else:\n",
    "            return 0\n",
    "\n",
    "    elif option_type == 'downinput':\n",
    "        if min_price <= B:\n",
    "            return max(K-S_T,0)\n",
    "        else:\n",
    "            return 0\n",
    "        \n",
    "    \"\"\"\n",
    "    All Knock-In cases are treated, to compute the payoff for Knock-Out options,\n",
    "    we use parity relationhip: KO + KI = Vanilla\n",
    "    \"\"\"\n",
    "\n",
    "    if option_type == 'upoutcall':\n",
    "        return max(S_T-K, 0) - payoff_barrier_option(path, K, T, B, option_type='upincall', observ_freq=observ_freq)\n",
    "    \n",
    "    elif option_type == 'upoutput':\n",
    "        return max(K-S_T, 0) - payoff_barrier_option(path, K, T, B, option_type='upinput', observ_freq=observ_freq)\n",
    "    \n",
    "    elif option_type == 'downoutcall':\n",
    "        return max(S_T-K, 0) - payoff_barrier_option(path, K, T, B, option_type='downincall', observ_freq=observ_freq)\n",
    "    \n",
    "    else:\n",
    "        return max(K-S_T, 0) - payoff_barrier_option(path, K, T, B, option_type='downinput', observ_freq=observ_freq)\n",
    "    \n",
    "\n",
    "\n",
    "\n",
    "def barrier_option_price(S0, K, T, r, vol, B, option_type, observ_freq=1, M=1000):\n",
    "\n",
    "    barrier_payoff = lambda path: payoff_barrier_option(path, K, T, B, option_type, observ_freq)\n",
    "\n",
    "    path_matrix = fl.monte_carlo(S0, T, r, vol, M, antithetic=False)\n",
    "    payoff_simulation = np.array([barrier_payoff(path_matrix.iloc[:,i].to_frame()) for i in range(path_matrix.shape[1])])\n",
    "\n",
    "    return np.exp(-r*T)*payoff_simulation.mean()\n",
    "    \n"
   ]
  },
  {
   "cell_type": "markdown",
   "metadata": {},
   "source": []
  },
  {
   "cell_type": "code",
   "execution_count": 8,
   "metadata": {},
   "outputs": [
    {
     "data": {
      "text/plain": [
       "7.195650493922509"
      ]
     },
     "execution_count": 8,
     "metadata": {},
     "output_type": "execute_result"
    }
   ],
   "source": [
    "S0 = 100\n",
    "K = 100\n",
    "T = 1\n",
    "r = 0.02\n",
    "vol = 0.15\n",
    "B = 105\n",
    "option_type = 'upincall'\n",
    "\n",
    "barrier_option_price(S0, K, T, r, vol, B, option_type)"
   ]
  },
  {
   "cell_type": "code",
   "execution_count": null,
   "metadata": {},
   "outputs": [],
   "source": []
  }
 ],
 "metadata": {
  "kernelspec": {
   "display_name": "base",
   "language": "python",
   "name": "python3"
  },
  "language_info": {
   "codemirror_mode": {
    "name": "ipython",
    "version": 3
   },
   "file_extension": ".py",
   "mimetype": "text/x-python",
   "name": "python",
   "nbconvert_exporter": "python",
   "pygments_lexer": "ipython3",
   "version": "3.11.7"
  }
 },
 "nbformat": 4,
 "nbformat_minor": 2
}
