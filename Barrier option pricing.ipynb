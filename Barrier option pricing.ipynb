{
 "cells": [
  {
   "cell_type": "code",
   "execution_count": 5,
   "metadata": {},
   "outputs": [],
   "source": [
    "import functionlib as fl\n",
    "import numpy as np\n",
    "import pandas as pd"
   ]
  },
  {
   "cell_type": "code",
   "execution_count": null,
   "metadata": {},
   "outputs": [],
   "source": [
    "def payoff_barrier_option(path, K, T, B, observ_freq, option_type):\n",
    "    \"\"\"\n",
    "    Computes the payoff of a barrier option given a price path. \n",
    "    Type can be:\n",
    "    - Knock-in Call ('kic') \n",
    "    - Knock-out Call ('koc')\n",
    "    - Knock-in Put ('kip') \n",
    "    - Knock-out Put ('kop')\n",
    "\n",
    "    Observation are made every observ_freq days.\n",
    "    \"\"\"\n",
    "\n",
    "    time_steps = T*252\n",
    "    observation_dates = np.arrange(observ_freq, time_steps+1, observ_freq)\n",
    "\n",
    "    path_at_observation = [path.iloc[observation-1] for observation in observation_dates]\n",
    "    \n",
    "    max_price = max(path)\n",
    "    min_price = min(path)\n",
    "\n",
    "    if option_type=='kic':\n",
    "        \n",
    "\n",
    "        \n",
    "\n",
    "\n",
    "\n",
    "\n",
    "\n",
    "\n",
    "\n",
    "    elif option_type=='koc':\n",
    "\n",
    "    \n",
    "\n",
    "    elif option_type=='kip':\n",
    "\n",
    "\n",
    "    elif option_type=='kop':"
   ]
  },
  {
   "cell_type": "code",
   "execution_count": 23,
   "metadata": {},
   "outputs": [
    {
     "data": {
      "text/plain": [
       "[1    101.552761\n",
       " Name: 62, dtype: float64,\n",
       " 1    101.661245\n",
       " Name: 125, dtype: float64,\n",
       " 1    102.330609\n",
       " Name: 188, dtype: float64,\n",
       " 1    101.334106\n",
       " Name: 251, dtype: float64]"
      ]
     },
     "execution_count": 23,
     "metadata": {},
     "output_type": "execute_result"
    }
   ],
   "source": [
    "T=1\n",
    "n_observ = 63\n",
    "\n",
    "time_steps = T*252\n",
    "observation_dates = np.arange(n_observ, time_steps+1, n_observ)\n",
    "\n",
    "path = fl.monte_carlo(100, 1, 0.02, 0.03, 1)\n",
    "\n",
    "path_at_observation = [path.iloc[observation-1] for observation in observation_dates]\n",
    "\n",
    "path_at_observation\n"
   ]
  },
  {
   "cell_type": "code",
   "execution_count": null,
   "metadata": {},
   "outputs": [],
   "source": []
  }
 ],
 "metadata": {
  "kernelspec": {
   "display_name": "base",
   "language": "python",
   "name": "python3"
  },
  "language_info": {
   "codemirror_mode": {
    "name": "ipython",
    "version": 3
   },
   "file_extension": ".py",
   "mimetype": "text/x-python",
   "name": "python",
   "nbconvert_exporter": "python",
   "pygments_lexer": "ipython3",
   "version": "3.11.7"
  }
 },
 "nbformat": 4,
 "nbformat_minor": 2
}
